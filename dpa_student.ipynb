{
  "cells": [
    {
      "cell_type": "markdown",
      "metadata": {
        "id": "view-in-github",
        "colab_type": "text"
      },
      "source": [
        "<a href=\"https://colab.research.google.com/github/b4435242/hardware-security/blob/main/dpa_student.ipynb\" target=\"_parent\"><img src=\"https://colab.research.google.com/assets/colab-badge.svg\" alt=\"Open In Colab\"/></a>"
      ]
    },
    {
      "cell_type": "markdown",
      "metadata": {
        "id": "RqC7Chc6H1en"
      },
      "source": [
        "# Break AES using DPA with correlations\n",
        "\n",
        "You need:\n",
        "* `plaintext.txt`: all PT blocks, (one block per line, in hex, bytes separated by spaces)\n",
        "* `ciphertext.txt`: all CT blocks, (one block per line, in hex, bytes separated by spaces)\n",
        "* `traceLength.txt`: how many samples per trace (one decimal number)\n",
        "* `traces.bin`: raw measured traces, one byte per sample (uint8), all traces together continuously\n"
      ]
    },
    {
      "cell_type": "code",
      "source": [
        "import matplotlib.pyplot as plt\n",
        "import numpy as np\n",
        "from google.colab import drive\n",
        "from scipy.spatial.distance import hamming\n",
        "drive.mount('/content/drive')"
      ],
      "metadata": {
        "colab": {
          "base_uri": "https://localhost:8080/"
        },
        "id": "-7-KxCqyopDw",
        "outputId": "72c90f35-54cc-426e-92df-98714748a5a5"
      },
      "execution_count": 2,
      "outputs": [
        {
          "output_type": "stream",
          "name": "stdout",
          "text": [
            "Mounted at /content/drive\n"
          ]
        }
      ]
    },
    {
      "cell_type": "code",
      "source": [
        "import sys\n",
        "sys.path.append('/content/drive/Shared/hwb/lab03/SC_python_measurement')"
      ],
      "metadata": {
        "id": "hdDEx4HKosx_"
      },
      "execution_count": 3,
      "outputs": []
    },
    {
      "cell_type": "code",
      "execution_count": 4,
      "metadata": {
        "id": "8fW8nPQ5uyEO"
      },
      "outputs": [],
      "source": [
        "# AES SBOX\n",
        "sbox = np.array([\n",
        "    0x63, 0x7C, 0x77, 0x7B, 0xF2, 0x6B, 0x6F, 0xC5, 0x30, 0x01, 0x67, 0x2B, 0xFE, 0xD7, 0xAB, 0x76,\n",
        "    0xCA, 0x82, 0xC9, 0x7D, 0xFA, 0x59, 0x47, 0xF0, 0xAD, 0xD4, 0xA2, 0xAF, 0x9C, 0xA4, 0x72, 0xC0,\n",
        "    0xB7, 0xFD, 0x93, 0x26, 0x36, 0x3F, 0xF7, 0xCC, 0x34, 0xA5, 0xE5, 0xF1, 0x71, 0xD8, 0x31, 0x15,\n",
        "    0x04, 0xC7, 0x23, 0xC3, 0x18, 0x96, 0x05, 0x9A, 0x07, 0x12, 0x80, 0xE2, 0xEB, 0x27, 0xB2, 0x75,\n",
        "    0x09, 0x83, 0x2C, 0x1A, 0x1B, 0x6E, 0x5A, 0xA0, 0x52, 0x3B, 0xD6, 0xB3, 0x29, 0xE3, 0x2F, 0x84,\n",
        "    0x53, 0xD1, 0x00, 0xED, 0x20, 0xFC, 0xB1, 0x5B, 0x6A, 0xCB, 0xBE, 0x39, 0x4A, 0x4C, 0x58, 0xCF,\n",
        "    0xD0, 0xEF, 0xAA, 0xFB, 0x43, 0x4D, 0x33, 0x85, 0x45, 0xF9, 0x02, 0x7F, 0x50, 0x3C, 0x9F, 0xA8,\n",
        "    0x51, 0xA3, 0x40, 0x8F, 0x92, 0x9D, 0x38, 0xF5, 0xBC, 0xB6, 0xDA, 0x21, 0x10, 0xFF, 0xF3, 0xD2,\n",
        "    0xCD, 0x0C, 0x13, 0xEC, 0x5F, 0x97, 0x44, 0x17, 0xC4, 0xA7, 0x7E, 0x3D, 0x64, 0x5D, 0x19, 0x73,\n",
        "    0x60, 0x81, 0x4F, 0xDC, 0x22, 0x2A, 0x90, 0x88, 0x46, 0xEE, 0xB8, 0x14, 0xDE, 0x5E, 0x0B, 0xDB,\n",
        "    0xE0, 0x32, 0x3A, 0x0A, 0x49, 0x06, 0x24, 0x5C, 0xC2, 0xD3, 0xAC, 0x62, 0x91, 0x95, 0xE4, 0x79,\n",
        "    0xE7, 0xC8, 0x37, 0x6D, 0x8D, 0xD5, 0x4E, 0xA9, 0x6C, 0x56, 0xF4, 0xEA, 0x65, 0x7A, 0xAE, 0x08,\n",
        "    0xBA, 0x78, 0x25, 0x2E, 0x1C, 0xA6, 0xB4, 0xC6, 0xE8, 0xDD, 0x74, 0x1F, 0x4B, 0xBD, 0x8B, 0x8A,\n",
        "    0x70, 0x3E, 0xB5, 0x66, 0x48, 0x03, 0xF6, 0x0E, 0x61, 0x35, 0x57, 0xB9, 0x86, 0xC1, 0x1D, 0x9E,\n",
        "    0xE1, 0xF8, 0x98, 0x11, 0x69, 0xD9, 0x8E, 0x94, 0x9B, 0x1E, 0x87, 0xE9, 0xCE, 0x55, 0x28, 0xDF,\n",
        "    0x8C, 0xA1, 0x89, 0x0D, 0xBF, 0xE6, 0x42, 0x68, 0x41, 0x99, 0x2D, 0x0F, 0xB0, 0x54, 0xBB, 0x16\n",
        "    ], dtype='uint8')\n",
        "\n",
        "# Hamming weight lookup table\n",
        "hw_table = []\n",
        "for i in range(256):\n",
        "    s = '{0:08b}'.format(i)\n",
        "    hw_table.append(s.count('1'))\n",
        "hw_table = np.array(hw_table, 'uint8')\n",
        "\n",
        "\n",
        "def hamming_distance_matrix(matrix1, matrix2):\n",
        "    # ensure the two matrices have the same shape\n",
        "    assert matrix1.shape == matrix2.shape, \"Matrices must have the same shape\"\n",
        "\n",
        "    # initialize the distance matrix\n",
        "    distance_matrix = np.zeros(matrix1.shape)\n",
        "\n",
        "    # iterate over the rows and columns of the matrices\n",
        "    for i in range(matrix1.shape[0]):\n",
        "        for j in range(matrix1.shape[1]):\n",
        "            # calculate the Hamming distance between the elements at the same position\n",
        "            r = (1 << np.arange(8))[:,None]\n",
        "            distance_matrix[i, j] = np.count_nonzero(matrix1[i, j]&r != matrix2[i, j]&r)\n",
        "\n",
        "    return distance_matrix\n",
        "\n",
        "\n",
        "# Correlation of two matrices\n",
        "def correlate(x, y):\n",
        "    \"\"\"\n",
        "    Correlate all columns from matrix x of shape (a,b)\n",
        "    with all columns from matrix y of shape (a,c),\n",
        "    creating correlation matrix C of shape (b,c).\n",
        "    \n",
        "    Originally matlab script by Jiri Bucek in NI-HWB.\n",
        "    \"\"\"\n",
        "    x = x - np.average(x, 0) # remove vertical averages\n",
        "    y = y - np.average(y, 0) # remove vertical averages\n",
        "    C = x.T @ y              # (n-1) Cov(x,y)\n",
        "    C = C / (np.sum(x**2, 0)**(1/2))[:,np.newaxis] # divide by (n-1) Var(x)\n",
        "    C = C / (np.sum(y**2, 0)**(1/2))               # divide by (n-1) Var(y)\n",
        "    return C\n",
        "\n",
        "# Load PT of CT from file\n",
        "def load_text(file_name):\n",
        "    \"\"\"\n",
        "    Load any text PT/CT from file containing hex strings with bytes \n",
        "    separated by spaces, one block per line\n",
        "    Output is a matrix of bytes (np.array)\n",
        "    \"\"\"\n",
        "    txt_str = open(file_name).readlines()\n",
        "    del txt_str[-1] #discard last empty line\n",
        "    #split each line into bytes and convert from hex\n",
        "    txt_bytes_list = list(\n",
        "        map(lambda line: \n",
        "                list(\n",
        "                    map(lambda s: int(s, 16),\n",
        "                        line.rstrip().split(\" \"))\n",
        "                ),\n",
        "            txt_str)\n",
        "        )\n",
        "    return np.array(txt_bytes_list, 'uint8')"
      ]
    },
    {
      "cell_type": "code",
      "source": [
        "print(hw_table)"
      ],
      "metadata": {
        "id": "RqkzPvGo200D"
      },
      "execution_count": null,
      "outputs": []
    },
    {
      "cell_type": "code",
      "execution_count": 5,
      "metadata": {
        "id": "--PH16eNuz_H"
      },
      "outputs": [],
      "source": [
        "# read plaintext inputs\n",
        "inputs = load_text(\"/content/drive/MyDrive/lab03/SC_python_measurement/plaintext.txt\")\n",
        "\n",
        "# read length of one complete trace (number of samples per trace)\n",
        "with open(\"/content/drive/MyDrive/lab03/SC_python_measurement/traceLength.txt\", \"r\") as fin:\n",
        "  trace_length = int(fin.readline())\n",
        "\n",
        "\n",
        "# trim each trace - select interesting part\n",
        "start = 5000\n",
        "end = 180000 # CHANGE to the length of the first round; \n",
        "\n",
        "# read traces from binary file\n",
        "traces = np.fromfile(\"/content/drive/MyDrive/lab03/SC_python_measurement/traces.bin\", dtype='uint8') # read as linear array\n",
        "traces = np.reshape(traces, (traces.size // trace_length, trace_length)) # reshape into matrix\n",
        "full_traces = traces\n",
        "traces = traces[:499, start:end] # select only the interesting part of each trace"
      ]
    },
    {
      "cell_type": "code",
      "source": [
        "!pip install ipympl\n",
        "%matplotlib widget\n",
        "from google.colab import output\n",
        "output.enable_custom_widget_manager()\n",
        "fig=plt.figure()\n",
        "plt.plot(full_traces[[0, 99, 499]].T) # plotting a vector\n",
        "plt.title(\"First trace\")\n",
        "plt.show()"
      ],
      "metadata": {
        "colab": {
          "base_uri": "https://localhost:8080/",
          "height": 1000,
          "referenced_widgets": [
            "b4d5ce9742ef406fbf29375ed074030d",
            "4185f05f23b048eaa44d55f5b45ed6ad",
            "d3ac0b6cb072422c9a0ff457ba611876",
            "fa986cef2df341f0862fe02b373efe32"
          ]
        },
        "id": "CpW0JUHzvjPK",
        "outputId": "d719d240-68a4-4739-f07d-04c510c2d847"
      },
      "execution_count": 6,
      "outputs": [
        {
          "output_type": "stream",
          "name": "stdout",
          "text": [
            "Looking in indexes: https://pypi.org/simple, https://us-python.pkg.dev/colab-wheels/public/simple/\n",
            "Requirement already satisfied: ipympl in /usr/local/lib/python3.9/dist-packages (0.9.3)\n",
            "Requirement already satisfied: traitlets<6 in /usr/local/lib/python3.9/dist-packages (from ipympl) (5.7.1)\n",
            "Requirement already satisfied: ipython<9 in /usr/local/lib/python3.9/dist-packages (from ipympl) (7.9.0)\n",
            "Requirement already satisfied: ipython-genutils in /usr/local/lib/python3.9/dist-packages (from ipympl) (0.2.0)\n",
            "Requirement already satisfied: pillow in /usr/local/lib/python3.9/dist-packages (from ipympl) (8.4.0)\n",
            "Requirement already satisfied: numpy in /usr/local/lib/python3.9/dist-packages (from ipympl) (1.22.4)\n",
            "Requirement already satisfied: matplotlib<4,>=3.4.0 in /usr/local/lib/python3.9/dist-packages (from ipympl) (3.7.1)\n",
            "Requirement already satisfied: ipywidgets<9,>=7.6.0 in /usr/local/lib/python3.9/dist-packages (from ipympl) (7.7.1)\n",
            "Requirement already satisfied: pickleshare in /usr/local/lib/python3.9/dist-packages (from ipython<9->ipympl) (0.7.5)\n",
            "Requirement already satisfied: pexpect in /usr/local/lib/python3.9/dist-packages (from ipython<9->ipympl) (4.8.0)\n",
            "Requirement already satisfied: jedi>=0.10 in /usr/local/lib/python3.9/dist-packages (from ipython<9->ipympl) (0.18.2)\n",
            "Requirement already satisfied: pygments in /usr/local/lib/python3.9/dist-packages (from ipython<9->ipympl) (2.14.0)\n",
            "Requirement already satisfied: decorator in /usr/local/lib/python3.9/dist-packages (from ipython<9->ipympl) (4.4.2)\n",
            "Requirement already satisfied: backcall in /usr/local/lib/python3.9/dist-packages (from ipython<9->ipympl) (0.2.0)\n",
            "Requirement already satisfied: prompt-toolkit<2.1.0,>=2.0.0 in /usr/local/lib/python3.9/dist-packages (from ipython<9->ipympl) (2.0.10)\n",
            "Requirement already satisfied: setuptools>=18.5 in /usr/local/lib/python3.9/dist-packages (from ipython<9->ipympl) (67.6.0)\n",
            "Requirement already satisfied: jupyterlab-widgets>=1.0.0 in /usr/local/lib/python3.9/dist-packages (from ipywidgets<9,>=7.6.0->ipympl) (3.0.6)\n",
            "Requirement already satisfied: widgetsnbextension~=3.6.0 in /usr/local/lib/python3.9/dist-packages (from ipywidgets<9,>=7.6.0->ipympl) (3.6.3)\n",
            "Requirement already satisfied: ipykernel>=4.5.1 in /usr/local/lib/python3.9/dist-packages (from ipywidgets<9,>=7.6.0->ipympl) (5.3.4)\n",
            "Requirement already satisfied: kiwisolver>=1.0.1 in /usr/local/lib/python3.9/dist-packages (from matplotlib<4,>=3.4.0->ipympl) (1.4.4)\n",
            "Requirement already satisfied: importlib-resources>=3.2.0 in /usr/local/lib/python3.9/dist-packages (from matplotlib<4,>=3.4.0->ipympl) (5.12.0)\n",
            "Requirement already satisfied: contourpy>=1.0.1 in /usr/local/lib/python3.9/dist-packages (from matplotlib<4,>=3.4.0->ipympl) (1.0.7)\n",
            "Requirement already satisfied: python-dateutil>=2.7 in /usr/local/lib/python3.9/dist-packages (from matplotlib<4,>=3.4.0->ipympl) (2.8.2)\n",
            "Requirement already satisfied: pyparsing>=2.3.1 in /usr/local/lib/python3.9/dist-packages (from matplotlib<4,>=3.4.0->ipympl) (3.0.9)\n",
            "Requirement already satisfied: fonttools>=4.22.0 in /usr/local/lib/python3.9/dist-packages (from matplotlib<4,>=3.4.0->ipympl) (4.39.2)\n",
            "Requirement already satisfied: cycler>=0.10 in /usr/local/lib/python3.9/dist-packages (from matplotlib<4,>=3.4.0->ipympl) (0.11.0)\n",
            "Requirement already satisfied: packaging>=20.0 in /usr/local/lib/python3.9/dist-packages (from matplotlib<4,>=3.4.0->ipympl) (23.0)\n",
            "Requirement already satisfied: zipp>=3.1.0 in /usr/local/lib/python3.9/dist-packages (from importlib-resources>=3.2.0->matplotlib<4,>=3.4.0->ipympl) (3.15.0)\n",
            "Requirement already satisfied: tornado>=4.2 in /usr/local/lib/python3.9/dist-packages (from ipykernel>=4.5.1->ipywidgets<9,>=7.6.0->ipympl) (6.2)\n",
            "Requirement already satisfied: jupyter-client in /usr/local/lib/python3.9/dist-packages (from ipykernel>=4.5.1->ipywidgets<9,>=7.6.0->ipympl) (6.1.12)\n",
            "Requirement already satisfied: parso<0.9.0,>=0.8.0 in /usr/local/lib/python3.9/dist-packages (from jedi>=0.10->ipython<9->ipympl) (0.8.3)\n",
            "Requirement already satisfied: wcwidth in /usr/local/lib/python3.9/dist-packages (from prompt-toolkit<2.1.0,>=2.0.0->ipython<9->ipympl) (0.2.6)\n",
            "Requirement already satisfied: six>=1.9.0 in /usr/local/lib/python3.9/dist-packages (from prompt-toolkit<2.1.0,>=2.0.0->ipython<9->ipympl) (1.16.0)\n",
            "Requirement already satisfied: notebook>=4.4.1 in /usr/local/lib/python3.9/dist-packages (from widgetsnbextension~=3.6.0->ipywidgets<9,>=7.6.0->ipympl) (6.3.0)\n",
            "Requirement already satisfied: ptyprocess>=0.5 in /usr/local/lib/python3.9/dist-packages (from pexpect->ipython<9->ipympl) (0.7.0)\n",
            "Requirement already satisfied: nbconvert in /usr/local/lib/python3.9/dist-packages (from notebook>=4.4.1->widgetsnbextension~=3.6.0->ipywidgets<9,>=7.6.0->ipympl) (6.5.4)\n",
            "Requirement already satisfied: Send2Trash>=1.5.0 in /usr/local/lib/python3.9/dist-packages (from notebook>=4.4.1->widgetsnbextension~=3.6.0->ipywidgets<9,>=7.6.0->ipympl) (1.8.0)\n",
            "Requirement already satisfied: argon2-cffi in /usr/local/lib/python3.9/dist-packages (from notebook>=4.4.1->widgetsnbextension~=3.6.0->ipywidgets<9,>=7.6.0->ipympl) (21.3.0)\n",
            "Requirement already satisfied: pyzmq>=17 in /usr/local/lib/python3.9/dist-packages (from notebook>=4.4.1->widgetsnbextension~=3.6.0->ipywidgets<9,>=7.6.0->ipympl) (23.2.1)\n",
            "Requirement already satisfied: jupyter-core>=4.6.1 in /usr/local/lib/python3.9/dist-packages (from notebook>=4.4.1->widgetsnbextension~=3.6.0->ipywidgets<9,>=7.6.0->ipympl) (5.3.0)\n",
            "Requirement already satisfied: nbformat in /usr/local/lib/python3.9/dist-packages (from notebook>=4.4.1->widgetsnbextension~=3.6.0->ipywidgets<9,>=7.6.0->ipympl) (5.8.0)\n",
            "Requirement already satisfied: terminado>=0.8.3 in /usr/local/lib/python3.9/dist-packages (from notebook>=4.4.1->widgetsnbextension~=3.6.0->ipywidgets<9,>=7.6.0->ipympl) (0.17.1)\n",
            "Requirement already satisfied: prometheus-client in /usr/local/lib/python3.9/dist-packages (from notebook>=4.4.1->widgetsnbextension~=3.6.0->ipywidgets<9,>=7.6.0->ipympl) (0.16.0)\n",
            "Requirement already satisfied: jinja2 in /usr/local/lib/python3.9/dist-packages (from notebook>=4.4.1->widgetsnbextension~=3.6.0->ipywidgets<9,>=7.6.0->ipympl) (3.1.2)\n",
            "Requirement already satisfied: platformdirs>=2.5 in /usr/local/lib/python3.9/dist-packages (from jupyter-core>=4.6.1->notebook>=4.4.1->widgetsnbextension~=3.6.0->ipywidgets<9,>=7.6.0->ipympl) (3.1.1)\n",
            "Requirement already satisfied: argon2-cffi-bindings in /usr/local/lib/python3.9/dist-packages (from argon2-cffi->notebook>=4.4.1->widgetsnbextension~=3.6.0->ipywidgets<9,>=7.6.0->ipympl) (21.2.0)\n",
            "Requirement already satisfied: MarkupSafe>=2.0 in /usr/local/lib/python3.9/dist-packages (from jinja2->notebook>=4.4.1->widgetsnbextension~=3.6.0->ipywidgets<9,>=7.6.0->ipympl) (2.1.2)\n",
            "Requirement already satisfied: nbclient>=0.5.0 in /usr/local/lib/python3.9/dist-packages (from nbconvert->notebook>=4.4.1->widgetsnbextension~=3.6.0->ipywidgets<9,>=7.6.0->ipympl) (0.7.2)\n",
            "Requirement already satisfied: bleach in /usr/local/lib/python3.9/dist-packages (from nbconvert->notebook>=4.4.1->widgetsnbextension~=3.6.0->ipywidgets<9,>=7.6.0->ipympl) (6.0.0)\n",
            "Requirement already satisfied: jupyterlab-pygments in /usr/local/lib/python3.9/dist-packages (from nbconvert->notebook>=4.4.1->widgetsnbextension~=3.6.0->ipywidgets<9,>=7.6.0->ipympl) (0.2.2)\n",
            "Requirement already satisfied: pandocfilters>=1.4.1 in /usr/local/lib/python3.9/dist-packages (from nbconvert->notebook>=4.4.1->widgetsnbextension~=3.6.0->ipywidgets<9,>=7.6.0->ipympl) (1.5.0)\n",
            "Requirement already satisfied: tinycss2 in /usr/local/lib/python3.9/dist-packages (from nbconvert->notebook>=4.4.1->widgetsnbextension~=3.6.0->ipywidgets<9,>=7.6.0->ipympl) (1.2.1)\n",
            "Requirement already satisfied: entrypoints>=0.2.2 in /usr/local/lib/python3.9/dist-packages (from nbconvert->notebook>=4.4.1->widgetsnbextension~=3.6.0->ipywidgets<9,>=7.6.0->ipympl) (0.4)\n",
            "Requirement already satisfied: lxml in /usr/local/lib/python3.9/dist-packages (from nbconvert->notebook>=4.4.1->widgetsnbextension~=3.6.0->ipywidgets<9,>=7.6.0->ipympl) (4.9.2)\n",
            "Requirement already satisfied: mistune<2,>=0.8.1 in /usr/local/lib/python3.9/dist-packages (from nbconvert->notebook>=4.4.1->widgetsnbextension~=3.6.0->ipywidgets<9,>=7.6.0->ipympl) (0.8.4)\n",
            "Requirement already satisfied: defusedxml in /usr/local/lib/python3.9/dist-packages (from nbconvert->notebook>=4.4.1->widgetsnbextension~=3.6.0->ipywidgets<9,>=7.6.0->ipympl) (0.7.1)\n",
            "Requirement already satisfied: beautifulsoup4 in /usr/local/lib/python3.9/dist-packages (from nbconvert->notebook>=4.4.1->widgetsnbextension~=3.6.0->ipywidgets<9,>=7.6.0->ipympl) (4.11.2)\n",
            "Requirement already satisfied: fastjsonschema in /usr/local/lib/python3.9/dist-packages (from nbformat->notebook>=4.4.1->widgetsnbextension~=3.6.0->ipywidgets<9,>=7.6.0->ipympl) (2.16.3)\n",
            "Requirement already satisfied: jsonschema>=2.6 in /usr/local/lib/python3.9/dist-packages (from nbformat->notebook>=4.4.1->widgetsnbextension~=3.6.0->ipywidgets<9,>=7.6.0->ipympl) (4.3.3)\n",
            "Requirement already satisfied: pyrsistent!=0.17.0,!=0.17.1,!=0.17.2,>=0.14.0 in /usr/local/lib/python3.9/dist-packages (from jsonschema>=2.6->nbformat->notebook>=4.4.1->widgetsnbextension~=3.6.0->ipywidgets<9,>=7.6.0->ipympl) (0.19.3)\n",
            "Requirement already satisfied: attrs>=17.4.0 in /usr/local/lib/python3.9/dist-packages (from jsonschema>=2.6->nbformat->notebook>=4.4.1->widgetsnbextension~=3.6.0->ipywidgets<9,>=7.6.0->ipympl) (22.2.0)\n",
            "Requirement already satisfied: cffi>=1.0.1 in /usr/local/lib/python3.9/dist-packages (from argon2-cffi-bindings->argon2-cffi->notebook>=4.4.1->widgetsnbextension~=3.6.0->ipywidgets<9,>=7.6.0->ipympl) (1.15.1)\n",
            "Requirement already satisfied: soupsieve>1.2 in /usr/local/lib/python3.9/dist-packages (from beautifulsoup4->nbconvert->notebook>=4.4.1->widgetsnbextension~=3.6.0->ipywidgets<9,>=7.6.0->ipympl) (2.4)\n",
            "Requirement already satisfied: webencodings in /usr/local/lib/python3.9/dist-packages (from bleach->nbconvert->notebook>=4.4.1->widgetsnbextension~=3.6.0->ipywidgets<9,>=7.6.0->ipympl) (0.5.1)\n",
            "Requirement already satisfied: pycparser in /usr/local/lib/python3.9/dist-packages (from cffi>=1.0.1->argon2-cffi-bindings->argon2-cffi->notebook>=4.4.1->widgetsnbextension~=3.6.0->ipywidgets<9,>=7.6.0->ipympl) (2.21)\n"
          ]
        },
        {
          "output_type": "display_data",
          "data": {
            "text/plain": [
              "Canvas(toolbar=Toolbar(toolitems=[('Home', 'Reset original view', 'home', 'home'), ('Back', 'Back to previous …"
            ],
            "image/png": "[encoded data removed]",
            "text/html": [
              "\n",
              "            <div style=\"display: inline-block;\">\n",
              "                <div class=\"jupyter-widgets widget-label\" style=\"text-align: center;\">\n",
              "                    Figure\n",
              "                </div>\n",
              "                <img src='data:image/png;base64,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' width=432.0/>\n",
              "            </div>\n",
              "        "
            ],
            "application/vnd.jupyter.widget-view+json": {
              "version_major": 2,
              "version_minor": 0,
              "model_id": "b4d5ce9742ef406fbf29375ed074030d"
            }
          },
          "metadata": {
            "application/vnd.jupyter.widget-view+json": {
              "colab": {
                "custom_widget_manager": {
                  "url": "https://ssl.gstatic.com/colaboratory-static/widgets/colab-cdn-widget-manager/b3e629b1971e1542/manager.min.js"
                }
              }
            }
          }
        }
      ]
    },
    {
      "cell_type": "code",
      "execution_count": 8,
      "metadata": {
        "id": "ZVJ_Tk55u1wu",
        "colab": {
          "base_uri": "https://localhost:8080/",
          "height": 71
        },
        "outputId": "32a41683-1cdf-4629-a52d-c74fa00b319e"
      },
      "outputs": [
        {
          "output_type": "stream",
          "name": "stdout",
          "text": [
            "(499, 16)\n",
            "1300000\n",
            "(499, 175000)\n"
          ]
        }
      ],
      "source": [
        "print(inputs.shape) # dimensions of inputs\n",
        "print(trace_length)\n",
        "print(traces.shape) # dimensions of matrix of traces"
      ]
    },
    {
      "cell_type": "code",
      "execution_count": null,
      "metadata": {
        "id": "6hzUcHiWxyH0"
      },
      "outputs": [],
      "source": [
        "# If you feel brave enough -- interactive plots\n",
        "#!pip install ipympl\n",
        "#from google.colab import output\n",
        "#output.enable_custom_widget_manager()\n",
        "#%matplotlib widget"
      ]
    },
    {
      "cell_type": "code",
      "execution_count": 7,
      "metadata": {
        "id": "wDAUVmNOu3BP",
        "colab": {
          "base_uri": "https://localhost:8080/",
          "height": 377,
          "referenced_widgets": [
            "80cf343f34aa4093a261be9e58d3eb9e",
            "84e585124feb40ba9c8f16963202c36b",
            "68ecd95da7694656be5b391eaff1aefb",
            "2bef567efc7a45338dcfa0d3658252ae"
          ]
        },
        "outputId": "1a9e619b-3949-4f2a-bd7c-282f37aff23b"
      },
      "outputs": [
        {
          "output_type": "display_data",
          "data": {
            "text/plain": [
              "Canvas(toolbar=Toolbar(toolitems=[('Home', 'Reset original view', 'home', 'home'), ('Back', 'Back to previous …"
            ],
            "image/png": "[encoded data removed]",
            "text/html": [
              "\n",
              "            <div style=\"display: inline-block;\">\n",
              "                <div class=\"jupyter-widgets widget-label\" style=\"text-align: center;\">\n",
              "                    Figure\n",
              "                </div>\n",
              "                <img src='data:image/png;base64,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' width=432.0/>\n",
              "            </div>\n",
              "        "
            ],
            "application/vnd.jupyter.widget-view+json": {
              "version_major": 2,
              "version_minor": 0,
              "model_id": "80cf343f34aa4093a261be9e58d3eb9e"
            }
          },
          "metadata": {
            "application/vnd.jupyter.widget-view+json": {
              "colab": {
                "custom_widget_manager": {
                  "url": "https://ssl.gstatic.com/colaboratory-static/widgets/colab-cdn-widget-manager/b3e629b1971e1542/manager.min.js"
                }
              }
            }
          }
        }
      ],
      "source": [
        "# Plot one trace\n",
        "fig = plt.figure()\n",
        "plt.plot(traces[0])\n",
        "plt.show()"
      ]
    },
    {
      "cell_type": "markdown",
      "metadata": {
        "id": "w6boaqAQvF1G"
      },
      "source": [
        "## **Attack the first key byte**\n",
        "![Intermediate value](dpa-aes-v.png)\n"
      ]
    },
    {
      "cell_type": "code",
      "execution_count": 19,
      "metadata": {
        "id": "WaKiOUmbvbQR"
      },
      "outputs": [],
      "source": [
        "# Generate key hypotheses (all possible byte values)\n",
        "keys = np.arange(start=0, stop=256, step=1, dtype='uint8')\n",
        "# Select the first byte of each input block\n",
        "inp = inputs[:, 0]\n",
        "# XOR each data byte with each key\n",
        "xmat = inp[:, np.newaxis] ^ keys"
      ]
    },
    {
      "cell_type": "code",
      "execution_count": 20,
      "metadata": {
        "id": "xy8See23H1ey",
        "colab": {
          "base_uri": "https://localhost:8080/",
          "height": 356
        },
        "outputId": "ed09bece-50cf-47d4-a902-ca355756b357"
      },
      "outputs": [
        {
          "output_type": "stream",
          "name": "stdout",
          "text": [
            "[[109  10 105 ... 218 228 232]\n",
            " [181 242  63 ...  87 133  86]\n",
            " [211 156 220 ... 153   1 189]\n",
            " ...\n",
            " [ 39 174  20 ... 214 102  49]\n",
            " [143 105 141 ... 246 223 181]\n",
            " [ 72  77 161 ...  25 247 172]]\n",
            "(499, 16)\n",
            "(499,)\n",
            "(499, 1)\n",
            "(256,)\n",
            "(499, 256)\n",
            "[[ 10  11   8 ... 247 244 245]\n",
            " [242 243 240 ...  15  12  13]\n",
            " [156 157 158 ...  97  98  99]\n",
            " ...\n",
            " [174 175 172 ...  83  80  81]\n",
            " [105 104 107 ... 148 151 150]\n",
            " [ 77  76  79 ... 176 179 178]]\n"
          ]
        }
      ],
      "source": [
        "# Examine the inputs matrix. Does it contain the data from plaintext.txt?\n",
        "print(inputs)\n",
        "# What is the shape of all the operands from the previous cell?\n",
        "print(inputs.shape)\n",
        "print(inp.shape)\n",
        "print(inp[:, np.newaxis].shape)\n",
        "print(keys.shape)\n",
        "print(xmat.shape)\n",
        "# Do you understand the values after the XOR operation? What AES operation do they represent?\n",
        "print(xmat)"
      ]
    },
    {
      "cell_type": "code",
      "execution_count": 21,
      "metadata": {
        "id": "VrBZd18VwBOH"
      },
      "outputs": [],
      "source": [
        "# Substitute with SBOX all XORed values -- matrix of intermediate values\n",
        "smat = sbox[xmat]"
      ]
    },
    {
      "cell_type": "code",
      "execution_count": 24,
      "metadata": {
        "id": "4GfR9BU-wT4G"
      },
      "outputs": [],
      "source": [
        "# Compute Hamming Weights -- the matrix of hypothetical power consumption\n",
        "def power_model(model, smat, xmat):\n",
        "  if model==\"hw\":\n",
        "    return hw_table[smat]\n",
        "  elif model==\"hd\":\n",
        "    return hamming_distance_matrix(smat, xmat)\n",
        "  else:\n",
        "    return smat"
      ]
    },
    {
      "cell_type": "code",
      "execution_count": 23,
      "metadata": {
        "id": "J8TTPk-WwjQH",
        "colab": {
          "base_uri": "https://localhost:8080/",
          "height": 1000,
          "referenced_widgets": [
            "62f8b5f2cc7a4054a28bce4768d4ebfd",
            "b7d7b0b4df2e441287cc8cc6d31af10d",
            "22b8d2e7234d47dd96baf5d751a72bef",
            "0d647906d3714b5db63794de8788e87c",
            "493fed7533b4411599486789c0c6218f",
            "7dabaafea301414a8ab1ce2562eee263",
            "0d368cc1192c462e9211f4c26de77d7b",
            "5025a0b3b04d43628ef7d35da941fe34",
            "727a270455f7453a811b155d68c3ec74",
            "57dcba70cb884eb5b38aad403d3f7bfb",
            "6787c1299f18490a8868cd55f30ca448",
            "2050a566fecd47459302a9e7b1fb3619"
          ]
        },
        "outputId": "5558fc33-fa78-481c-ea5f-e1ffbcb25319"
      },
      "outputs": [
        {
          "output_type": "stream",
          "name": "stdout",
          "text": [
            "[[5 4 2 ... 3 7 5]\n",
            " [3 3 3 ... 5 7 6]\n",
            " [6 5 3 ... 7 4 7]\n",
            " ...\n",
            " [4 5 3 ... 6 4 4]\n",
            " [6 3 7 ... 2 2 2]\n",
            " [5 3 2 ... 6 5 5]]\n",
            "(499, 256)\n",
            "(499, 175000)\n",
            "max_acorr 0.760057\n",
            "key: 254 time: 91991\n",
            "key: þ, fe\n"
          ]
        },
        {
          "output_type": "display_data",
          "data": {
            "text/plain": [
              "Canvas(toolbar=Toolbar(toolitems=[('Home', 'Reset original view', 'home', 'home'), ('Back', 'Back to previous …"
            ],
            "image/png": "[encoded data removed]",
            "text/html": [
              "\n",
              "            <div style=\"display: inline-block;\">\n",
              "                <div class=\"jupyter-widgets widget-label\" style=\"text-align: center;\">\n",
              "                    Figure\n",
              "                </div>\n",
              "                <img src='data:image/png;base64,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' width=432.0/>\n",
              "            </div>\n",
              "        "
            ],
            "application/vnd.jupyter.widget-view+json": {
              "version_major": 2,
              "version_minor": 0,
              "model_id": "62f8b5f2cc7a4054a28bce4768d4ebfd"
            }
          },
          "metadata": {
            "application/vnd.jupyter.widget-view+json": {
              "colab": {
                "custom_widget_manager": {
                  "url": "https://ssl.gstatic.com/colaboratory-static/widgets/colab-cdn-widget-manager/b3e629b1971e1542/manager.min.js"
                }
              }
            }
          }
        },
        {
          "output_type": "stream",
          "name": "stdout",
          "text": [
            "[[5. 1. 3. ... 6. 4. 3.]\n",
            " [6. 7. 5. ... 5. 5. 5.]\n",
            " [2. 4. 4. ... 4. 3. 3.]\n",
            " ...\n",
            " [3. 5. 5. ... 6. 2. 1.]\n",
            " [2. 4. 2. ... 5. 5. 2.]\n",
            " [5. 4. 5. ... 5. 6. 3.]]\n",
            "(499, 256)\n",
            "(499, 175000)\n",
            "max_acorr 0.264271\n",
            "key: 189 time: 48786\n",
            "key: ½, bd\n"
          ]
        },
        {
          "output_type": "display_data",
          "data": {
            "text/plain": [
              "Canvas(toolbar=Toolbar(toolitems=[('Home', 'Reset original view', 'home', 'home'), ('Back', 'Back to previous …"
            ],
            "image/png": "[encoded data removed]",
            "text/html": [
              "\n",
              "            <div style=\"display: inline-block;\">\n",
              "                <div class=\"jupyter-widgets widget-label\" style=\"text-align: center;\">\n",
              "                    Figure\n",
              "                </div>\n",
              "                <img src='data:image/png;base64,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' width=432.0/>\n",
              "            </div>\n",
              "        "
            ],
            "application/vnd.jupyter.widget-view+json": {
              "version_major": 2,
              "version_minor": 0,
              "model_id": "5025a0b3b04d43628ef7d35da941fe34"
            }
          },
          "metadata": {
            "application/vnd.jupyter.widget-view+json": {
              "colab": {
                "custom_widget_manager": {
                  "url": "https://ssl.gstatic.com/colaboratory-static/widgets/colab-cdn-widget-manager/b3e629b1971e1542/manager.min.js"
                }
              }
            }
          }
        },
        {
          "output_type": "stream",
          "name": "stdout",
          "text": [
            "[[103  43  48 ... 104 191 230]\n",
            " [137  13 140 ... 118 254 215]\n",
            " [222  94  11 ... 239 170 251]\n",
            " ...\n",
            " [228 121 145 ... 237  83 209]\n",
            " [249  69 127 ...  34 136 144]\n",
            " [227  41 132 ... 231 109  55]]\n",
            "(499, 256)\n",
            "(499, 175000)\n",
            "max_acorr 0.555823\n",
            "key: 254 time: 92609\n",
            "key: þ, fe\n"
          ]
        },
        {
          "output_type": "display_data",
          "data": {
            "text/plain": [
              "Canvas(toolbar=Toolbar(toolitems=[('Home', 'Reset original view', 'home', 'home'), ('Back', 'Back to previous …"
            ],
            "image/png": "[encoded data removed]",
            "text/html": [
              "\n",
              "            <div style=\"display: inline-block;\">\n",
              "                <div class=\"jupyter-widgets widget-label\" style=\"text-align: center;\">\n",
              "                    Figure\n",
              "                </div>\n",
              "                <img src='data:image/png;base64,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' width=432.0/>\n",
              "            </div>\n",
              "        "
            ],
            "application/vnd.jupyter.widget-view+json": {
              "version_major": 2,
              "version_minor": 0,
              "model_id": "6787c1299f18490a8868cd55f30ca448"
            }
          },
          "metadata": {
            "application/vnd.jupyter.widget-view+json": {
              "colab": {
                "custom_widget_manager": {
                  "url": "https://ssl.gstatic.com/colaboratory-static/widgets/colab-cdn-widget-manager/b3e629b1971e1542/manager.min.js"
                }
              }
            }
          }
        }
      ],
      "source": [
        "# Compute the correlation matrix -- correlate the hypotheses with measured traces\n",
        "models = [\"hw\", \"hd\", \"byte\"]\n",
        "for model in models:\n",
        "  mat = power_model(model)\n",
        "  print(mat)\n",
        "  print(mat.shape)\n",
        "  print(traces.shape)\n",
        "  corr = correlate(mat, traces) \n",
        "  # What is the shape and contents of the correlation matrix?\n",
        "  # Find the absolute maximum correlation\n",
        "  acorr = abs(corr)\n",
        "  max_acorr = acorr.max()\n",
        "  (k, j) = np.where(acorr == max_acorr) # find idices of maximum\n",
        "  print(\"max_acorr %f\" % max_acorr)\n",
        "  print(\"key: %d time: %d\" % (k[0], j[0]))\n",
        "  print(\"key: %1c, %02x\" % (k[0], k[0]))\n",
        "  # Plot the correlation traces for the right key byte guess and one wrong key byte guess\n",
        "  # Do you see the correlation peaks?\n",
        "  fig = plt.figure()\n",
        "  plt.plot(corr[k[0]])\n",
        "  plt.plot(corr[k[0]+1])\n",
        "  plt.show()"
      ]
    },
    {
      "cell_type": "markdown",
      "metadata": {
        "id": "Z62RVYJYzncZ"
      },
      "source": [
        "## **Break all key bytes!**"
      ]
    },
    {
      "cell_type": "code",
      "source": [
        "def attack(inp, model):\n",
        "  # Generate key hypotheses (all possible byte values)\n",
        "  keys = np.arange(start=0, stop=256, step=1, dtype='uint8')\n",
        "  # XOR each data byte with each key\n",
        "  xmat = inp[:, np.newaxis] ^ keys\n",
        "  # Substitute with SBOX all XORed values -- matrix of intermediate values\n",
        "  smat = sbox[xmat]\n",
        "  \n",
        "  mat = power_model(model, smat, xmat)\n",
        "  corr = correlate(mat, traces) \n",
        "  # What is the shape and contents of the correlation matrix?\n",
        "  # Find the absolute maximum correlation\n",
        "  acorr = abs(corr)\n",
        "  max_acorr = acorr.max()\n",
        "  (k, j) = np.where(acorr == max_acorr) # find idices of maximum\n",
        "  return k, j"
      ],
      "metadata": {
        "id": "2AbFzdb1BSKe"
      },
      "execution_count": 25,
      "outputs": []
    },
    {
      "cell_type": "code",
      "source": [
        "print(inputs)"
      ],
      "metadata": {
        "colab": {
          "base_uri": "https://localhost:8080/",
          "height": 142
        },
        "id": "0l0ADvOpEYkC",
        "outputId": "bc7fbe30-bd01-442b-cc84-7c88c262bf17"
      },
      "execution_count": 15,
      "outputs": [
        {
          "output_type": "stream",
          "name": "stdout",
          "text": [
            "[[109  10 105 ... 218 228 232]\n",
            " [181 242  63 ...  87 133  86]\n",
            " [211 156 220 ... 153   1 189]\n",
            " ...\n",
            " [ 39 174  20 ... 214 102  49]\n",
            " [143 105 141 ... 246 223 181]\n",
            " [ 72  77 161 ...  25 247 172]]\n"
          ]
        }
      ]
    },
    {
      "cell_type": "code",
      "execution_count": 26,
      "metadata": {
        "id": "T7HhwO-ezpoQ",
        "colab": {
          "base_uri": "https://localhost:8080/",
          "height": 928
        },
        "outputId": "b519ae25-8107-4c67-a89a-402be331a24e"
      },
      "outputs": [
        {
          "output_type": "stream",
          "name": "stdout",
          "text": [
            "Ê, ca @ 96308\n",
            "þ, fe @ 91991\n",
            "º, ba @ 92620\n",
            "¾, be @ 93889\n",
            "\u0011, 11 @ 86437\n",
            "\", 22 @ 92033\n",
            ", 90 @ 93218\n",
            "\u000f, 0f @ 93805\n",
            "¥, a5 @ 88240\n",
            "Â, c2 @ 88701\n",
            "=, 3d @ 92799\n",
            "î, ee @ 89623\n",
            "k, 6b @ 90084\n",
            "a, 61 @ 90545\n",
            "t, 74 @ 93039\n",
            "2, 32 @ 91467\n",
            "[202 254 186 190  17  34 144  15 165 194  61 238 107  97 116  50]\n",
            ", 86 @ 98460\n",
            "½, bd @ 48786\n",
            "J, 4a @ 68012\n",
            "=, 3d @ 85994\n",
            "Y, 59 @ 135815\n",
            "\\, 5c @ 49374\n",
            "h, 68 @ 14451\n",
            ", 8e @ 87670\n",
            ", 89 @ 88292\n",
            "Ê, ca @ 67814\n",
            "u, 75 @ 92745\n",
            "\\, 5c @ 89888\n",
            "Æ, c6 @ 122153\n",
            ", 97 @ 75466\n",
            "Ò, d2 @ 93080\n",
            "~, 7e @ 60340\n",
            "[134 189  74  61  89  92 104 142 137 202 117  92 198 151 210 126]\n",
            "Ê, ca @ 96990\n",
            "þ, fe @ 92609\n",
            "º, ba @ 92944\n",
            "¾, be @ 93889\n",
            "\u0011, 11 @ 101851\n",
            "\", 22 @ 97596\n",
            ", 90 @ 93218\n",
            "\u000f, 0f @ 87873\n",
            "¥, a5 @ 88334\n",
            "Â, c2 @ 88795\n",
            "=, 3d @ 92798\n",
            "î, ee @ 93706\n",
            "k, 6b @ 90084\n",
            "a, 61 @ 92504\n",
            "t, 74 @ 93039\n",
            "2, 32 @ 93531\n",
            "[202 254 186 190  17  34 144  15 165 194  61 238 107  97 116  50]\n"
          ]
        }
      ],
      "source": [
        "models = [\"hw\", \"hd\", \"byte\"]\n",
        "kk = np.zeros(16, dtype='uint8')\n",
        "for model in models:\n",
        "  for i in range(0, 16):\n",
        "      inp = inputs[:, i]\n",
        "      k, j = attack(inp, model)\n",
        "      kk[i] = k[0]\n",
        "      print(\"%1c, %02x @ %d\" % (k[0], k[0], j[0]))\n",
        "  print(kk)"
      ]
    },
    {
      "cell_type": "code",
      "source": [],
      "metadata": {
        "id": "oIj1SghRJPsc"
      },
      "execution_count": null,
      "outputs": []
    },
    {
      "cell_type": "markdown",
      "metadata": {
        "id": "vjGmf9N9H1ez"
      },
      "source": [
        "## **Verify the key on a PT, CT pair!**"
      ]
    },
    {
      "cell_type": "code",
      "execution_count": null,
      "metadata": {
        "id": "u3ft8tzTH1e0"
      },
      "outputs": [],
      "source": [
        "key_bytes = bytes(kk)\n",
        "outputs = ?"
      ]
    },
    {
      "cell_type": "code",
      "execution_count": null,
      "metadata": {
        "id": "Em4mncUpH1e0"
      },
      "outputs": [],
      "source": [
        "# !pip install pycryptodome\n",
        "from Crypto.Cipher import AES\n",
        "cipher = AES.new(key_bytes, AES.MODE_ECB)\n",
        "??"
      ]
    },
    {
      "cell_type": "markdown",
      "source": [
        "## **PGE**"
      ],
      "metadata": {
        "id": "t2jox-b9InND"
      }
    },
    {
      "cell_type": "code",
      "source": [
        "def PGE(inp, model, traces):\n",
        "  # Generate key hypotheses (all possible byte values)\n",
        "  keys = np.arange(start=0, stop=256, step=1, dtype='uint8')\n",
        "  # XOR each data byte with each key\n",
        "  xmat = inp[:, np.newaxis] ^ keys\n",
        "  # Substitute with SBOX all XORed values -- matrix of intermediate values\n",
        "  smat = sbox[xmat]\n",
        "  \n",
        "  mat = power_model(model, smat, xmat)\n",
        "  corr = correlate(mat, traces) \n",
        "  # What is the shape and contents of the correlation matrix?\n",
        "  # Find the absolute maximum correlation\n",
        "  acorr = abs(corr)\n",
        "  max_corr_table = np.zeros(256)\n",
        "  for i, corr_of_key in enumerate(acorr):\n",
        "    max_corr_table[i] = corr_of_key.max()\n",
        "\n",
        "  pge = max_corr_table.argsort()[::-1]\n",
        "  return pge\n",
        "\n",
        "  "
      ],
      "metadata": {
        "id": "JoYu4fVcImuH"
      },
      "execution_count": 40,
      "outputs": []
    },
    {
      "cell_type": "code",
      "source": [
        "traces_num = [50, 100, 200, 499]\n",
        "models = [\"hw\", \"hd\", \"byte\"]\n",
        "kk = np.zeros(16, dtype='uint8')\n",
        "for trace_num in traces_num:\n",
        "  sub_traces = traces[:trace_num]\n",
        "  sub_inputs = inputs[:trace_num]\n",
        "  for model in models:\n",
        "    for i in range(0, 16):\n",
        "        inp = sub_inputs[:, i]\n",
        "        pge = PGE(inp, model, sub_traces)\n",
        "        print(pge)\n",
        "      "
      ],
      "metadata": {
        "colab": {
          "base_uri": "https://localhost:8080/",
          "height": 1000
        },
        "id": "OURJFq8bJkE9",
        "outputId": "3004163b-5ff3-4faa-adb2-1f33ca485910"
      },
      "execution_count": 41,
      "outputs": [
        {
          "output_type": "stream",
          "name": "stdout",
          "text": [
            "[202   2  25   0 130 127 120 179 142  21 217  47 237 166 150  54 123 226\n",
            " 133 208 199 113  55  14   7 172 164 210  66  10 247 206 238 225 248 103\n",
            "  65 209  34  76 151 221  24  38 246  62 154  92   1  78 207 244 110 204\n",
            " 230  97   3 107  32 148  96  35  48  75 108  56 198  72  17 193  46 249\n",
            "  36  93  94 218  70 224   5  60 211  23 216 189  71 205 128  41 159  22\n",
            " 124 175  74  81 197 163 147  80  43 252  67 222  99 240 167 171  73  98\n",
            " 219  45 212 143  68 102  69 181 134 114 161 129 165  26 203 185 223  61\n",
            " 232 101 239  30 201 144  95 169  18  91 231  88  27 119  29  39 215 106\n",
            "  90 187 214 213  89 242 177 137 141 245 250  49 228  79  44 126 115 157\n",
            " 121 135 105 109 188  28  11 190 118  64 146 241  85  13   6 152 195  63\n",
            "  31 145 162  82 104  16  83 173  33 236 254 170 116 168 229 192 251  12\n",
            " 186 253 125 194   8 131  42 117 235  53 112  77 196 139 158 122  37  58\n",
            " 191 243 180 184  20   4 155 153 176 149 178  50  57   9 174 220  84 136\n",
            " 233  87 234 138 183  52  19 132 111  51 140 255 160  40 227  15 156 200\n",
            " 100  59 182  86]\n",
            "[254 203  96 110 252  59 163 135 220 119 100 104 137  19  92 233  85   0\n",
            " 193 183 211 216 247 236 219  79 244 213  50  80 139 177 232 170  63 255\n",
            " 120 126 172 204  58 239 152 106  17  49  68 118 176 198  35 200 185 122\n",
            "   4  86 237 194 158 238 129  18   2 127  91 143 227  34 116 107  15  42\n",
            "  44 253  70  53 138 103 180 149 115  78 225 136  47 209 145  62  72 222\n",
            "  74  87 153 205 190  16 141  23  31 230 195 114 179 235 251 112 128  97\n",
            "  33  22 148 191   5 229 156 169  21  71  38  37 217  94 224 192 189 206\n",
            " 147  54  61 212 207  46  99 221 154 109  65  75 108  52  55 155 164  12\n",
            "  56 113  11 243 228  27  67 246 181 123  40 182 124 196 117 231 215  28\n",
            " 125   8  84 218 159 150  41 201  73 146  76  89 130 166 132  26   1 184\n",
            "  20  14  25 250  82  43  98 234 133 249 142 202 105  66 151   7 101  10\n",
            "  83  24  51 134 171 161 178 188  77 111 245  90   9 240 187 168 214   6\n",
            "  29 174  39  64 242 226 131 102 186 210 165 223  48 157  60 160   3  95\n",
            " 197  30 144  32 208  88 199  81 248 167  13 175 140 241  57 162  69  45\n",
            " 121  36  93 173]\n",
            "[186  71 111  63 145  10   4 209 192  97  49  20 129 110  28 253 249 175\n",
            "  58 208  92  45 137  80 248 251 227 100 237   5   2 203 138 225 191  70\n",
            "  51  16 185 204   1  52 160  88 141  24 241 168 245 189  50  91 201 205\n",
            " 198  57 219  42 167 136 250 142 252  93  29 112  21 135  53  11 122 115\n",
            " 218  65  62 239 200 118  98 107 130 146 197  17 170  47 173  76 117   7\n",
            " 220 154  99  68  61  79  30 174 224  64 254 243 187 229 124 127 109  41\n",
            " 114 181  77  22  75  31 196  86  36 180 215  32  23 247 103 121 119  13\n",
            " 244  89 222  33  12  81  40 133  83  59  67  94  73  55 169  48 102 157\n",
            " 194  44 217  37 143 199 116 123 131 149   8 113  26  74  85  82  84  90\n",
            " 162 163 255  96  60  38 134 128 171 177 236 159 207 221 108 152   6  54\n",
            " 231 172 190 240 183 195  15  25  46 232 147 153  72 211  14 242  69 246\n",
            "  39 184 140 212  34 214 126 158 101 104 235  95 233 132 139 216  66 120\n",
            " 206  19 155  78   9  18 178 144 176 238 105 188 148 213 151  56 226 202\n",
            "  35  43 106 125  27 164 228 193 150 156 210   0 234 179 161 182 166 165\n",
            " 223 230  87   3]\n",
            "[190  18  80 212  13  58  24 165 139 251  89 159 147  77  34  15  83 135\n",
            "  33  69   8  27 153 111 136 223 172 235  56 180 134  52 118 130 101 234\n",
            " 218  43 207  26 196  99 108 246 155 116  10  30 187 121  38  36 204   9\n",
            " 253 178  39  71 221 182 228 210 247 250 137  88 195  93 214   0 226  97\n",
            "  79   3  19  42 174 252 106  59  90  95  60 152   2 211 144 149 100  23\n",
            " 104 110  73 162  37 236 163 225  84  74 244 208 240 113 198 224 179 185\n",
            " 227  49 217 189 206 171  53 222   7 169  14   4 148  45  12  57 193 132\n",
            "  54 220 167  11  81 129 156 191  85 213 241 161 122 102  64 231 248  68\n",
            "  47 229  67 255 107  44  61 233 146  96 157  51  48  78 200 164 238  70\n",
            " 215 243  31  55  98 192 142 120 209 232 154 245  35 230  92 203 131 181\n",
            " 151  21  76 205 173 239 140 170 186 168  94 117 128  17  62   5 105 127\n",
            " 166 123 133 199  29 202 160  65  87 158  72  75 254 219 145 242 124 237\n",
            "  86 138 197  46  50 201 183 126  32 175 177   6 114  66 249 188  22  82\n",
            " 216 143  63 194  20  41 176 141 109 112   1 103 115 125  28  91  16 119\n",
            " 184  40 150  25]\n",
            "[ 17 235 154  79  12  90  62  72 122 115 156 160 239 104   6  45  95 141\n",
            " 109 148 150  46 134  78 121 153  39 220  42 232  23 205 139  41 164 216\n",
            " 185 211 132  86  48 208   8 212 210 136  28  27 253 233 219  44 166 254\n",
            " 177 152 111 125 191 130 169 149 143  68 176 172 189 241  91  92 247 203\n",
            " 183  25 174 103  75  51 204  56 171 175 199 217  83  64 223  22  16 227\n",
            " 244 252 190  77  36 113  11 240  15  21  89 228 129 192  50 138  10 137\n",
            "   1 179  74 255 157  71  13 194 118  26 100 214 120 178 117 181 202  98\n",
            " 250  76  30 116  66 195  93  33 182 151  60 170 248  47 237  24 197  99\n",
            " 161  29  80 135 158  70 226  37 165  35 243  82 231 106 198  18  52 193\n",
            " 200 215 173  34 218 249  49 131 159 245  63  85 110   4 201 155  19  67\n",
            " 234 124  43 114 187  38 229  94  59 133 105   7  88   0  31  58  84  40\n",
            "  97 162   3 180 213  14 144 142 127 230 238 119 196  87 168   9 101 147\n",
            "   5 108 126 184  20 145  53 224 102 251  96 146 128 112 140  32  61 207\n",
            "  54 242 225 167 188 123  57 163 209 222 206  73  81 186 236  55  69  65\n",
            " 246 107 221   2]\n",
            "[ 34 128  96 107 145 157  66 250  92 125 194 186  70 138  45  51 144  44\n",
            "  14 183   1  85  97 173  86 112  18  33  64  91 240  68 177 228   3 225\n",
            " 235 187 188 223 167 204  58 243 198 172 142 129 213 211  37  94 155 171\n",
            " 133  78  43  38 192  74  65 214 210 254 207  11 227 104 151  24 230  47\n",
            " 175 184 164 193 131  93  30  21 255 153 154  16 141 229 203 247  83 195\n",
            " 245 160 174  77   7  40 110 215  57  41 150 180  32 185  87  19  28 189\n",
            " 181  13  53  31 109 238  84 161  15 119  67 212 248 136 117 166  81  98\n",
            "  72 168  55 102  27 158 202 159 252 121 106  82  71 237 232  12   8 169\n",
            "  60 163 127 137 249 241 200 239  69  54  36 111  25  50 220 209 233 224\n",
            "  52 182 120  88 208 218 100   2 219 123 199  22 242 101   5 124  99  23\n",
            "  29  17  89  35 116 132 140 234  20 191 206  10 170 135 103 231 244 246\n",
            " 253  61 139 149 205  56 236 190  80  73 146 178 197 156  46 148  59  62\n",
            "  48 126 134 179  39 226 118  76 105 122  90 143   4 162 176 201   9  26\n",
            " 221   6 216 115  63 217 251  79 222 165 114  75   0 196 147 152 130  49\n",
            " 108  42  95 113]\n",
            "[144 155 164 191 229 238 169 117 234 148  90 171 226 176 110  62 190  20\n",
            " 103 241  95  59 152 250 163 228   8 150  82 214 158  60 179 129 230   2\n",
            "  36 115 168 107  27 225  40 149 137 124  55  96 145 167 114  47 197 198\n",
            " 196  63 243 192 119  68 132  35  45  25  64 237 128 185 178 201 206 104\n",
            " 157 202 182 118 251 113   4 151 216  33 200  42  58  98 211  11 249  43\n",
            " 235  97  39 184 194  77  46 181 162 215 180  70 254  13 199  21  52 253\n",
            " 244 248  61 153 170 220 126 112  49  65 121  94 173 146  93 224 213 133\n",
            " 187  76 255  73 236  88 222 245 106 165 166 183 135 186  48 138 174 209\n",
            " 246 205  57  92 233 102 239 142  15 188 131  51 219 172  30 210  80 147\n",
            " 161  86 143 122  75  32 232  79 177 111   0  17   1 218  84  14 160 193\n",
            "  12  71 123  81 141 136 195 101  56 208  10  78  69 242  74  18 231  16\n",
            " 221  83  50 130 247 223  54  26 227   7 140  31  99  38  67 252 116  29\n",
            " 134  37 203 240 127 108  87 154 139  34 156  23 125   9  41  85 175 105\n",
            "  72   6 217 207 100  44  24  19 204 120   3  66  91   5  22  89  28 109\n",
            "  53 212 189 159]\n",
            "[ 15  39 202 140  26  40   0   2  24  80 243   1 147  96 186  76 117 115\n",
            " 220  18  23  56  71  87  82  81 246  19 190 145  32  28 142  43 245 221\n",
            "   3  73 130 241  79  84  98 191 236  42 222 187 159 173 134 124 149 203\n",
            " 170  34 226 139 225  29 235  93 144  27 234  41 174 179 189  45 143  53\n",
            "  38 106  74  57 157 150 251  61 158 196  67 215 230 185  91 180  68 122\n",
            "   7 131 238 136  13  50 148  36  48 102  14 101  21  77 217  49  95 204\n",
            "  89 250  51 128 119  54 156 113 107  46 205 161 214 146 123 209  60  58\n",
            " 176 110  37 104  25 244  86  35 218  11 237 108 207 182 177 162 164  97\n",
            " 166 154 239 193 212 178  69  55  88 248 151 103 247  78 127 219 141 242\n",
            "  66 153 109   5 216 223 129 224 118 121 227 125 181  63 152   4 175 138\n",
            " 192 112 211 120 233 155 171 213  72  44  31  22 167  20 135 249 228 126\n",
            " 160  90 194  59  12 184 111  92 201 210 195 199  16 172 100 253  62 232\n",
            " 137  75 197  47  52 114 240 169 133 229 206 105  65 132 163   6 168 165\n",
            " 208 188   8 231 254 198  10  30  99   9 252 255  83  17  70  33 200 116\n",
            "  64 183  85  94]\n",
            "[165 188  22 107 220 106 245   8  21  62  37  70  65 132 229 239 253 150\n",
            "  19  88 205 225 166 162  32  41   3 223 170 247  91 250  39  11 186 126\n",
            "  29  44 125 175  55   5  36  31  59 200 147  68 248  50 242  77 102  82\n",
            " 138 206 103  79 152  93  10 222  87 174 133  90  52 108 235  42 160 183\n",
            "  96  27 227  26  46  83 127 194  49 119 100 195  67  95  33 193 179   6\n",
            "  75   9 110 216 145 214 155 161 187 130 230  64 164  66 105 129  73  57\n",
            " 163 178  47 112 219  61 218 189 142  63  16  35 199 172 192 181 190 158\n",
            "  84  43  60  86 135 182 204 157  30  48 177 143  71 201 114 123 104 169\n",
            " 144  81 246  14  54   4  74 118 184 156 140 244  97  98 141 215  69 237\n",
            " 240 159 154 236 185  53 153  45  89 212  38 243  94  40 131  18  58 221\n",
            " 122  17 241 180  76 173 115  78 238  92   1 121 134 234 139  20 120 113\n",
            "  28 109 124  23 101 196 136 151 202  15 224 251 117  80 176 210 226 231\n",
            "  85 137  24  72 249  51 213 167 209 171 191 148 252 254 233 198 228 211\n",
            "  56 208 168  25 116   2  34   7  12 149 128 111 232   0 217 146 197 255\n",
            "  99 207  13 203]\n"
          ]
        },
        {
          "output_type": "error",
          "ename": "KeyboardInterrupt",
          "evalue": "ignored",
          "traceback": [
            "\u001b[0;31m---------------------------------------------------------------------------\u001b[0m",
            "\u001b[0;31mKeyboardInterrupt\u001b[0m                         Traceback (most recent call last)",
            "\u001b[0;32m<ipython-input-41-72f919282e36>\u001b[0m in \u001b[0;36m<module>\u001b[0;34m\u001b[0m\n\u001b[1;32m      8\u001b[0m     \u001b[0;32mfor\u001b[0m \u001b[0mi\u001b[0m \u001b[0;32min\u001b[0m \u001b[0mrange\u001b[0m\u001b[0;34m(\u001b[0m\u001b[0;36m0\u001b[0m\u001b[0;34m,\u001b[0m \u001b[0;36m16\u001b[0m\u001b[0;34m)\u001b[0m\u001b[0;34m:\u001b[0m\u001b[0;34m\u001b[0m\u001b[0;34m\u001b[0m\u001b[0m\n\u001b[1;32m      9\u001b[0m         \u001b[0minp\u001b[0m \u001b[0;34m=\u001b[0m \u001b[0msub_inputs\u001b[0m\u001b[0;34m[\u001b[0m\u001b[0;34m:\u001b[0m\u001b[0;34m,\u001b[0m \u001b[0mi\u001b[0m\u001b[0;34m]\u001b[0m\u001b[0;34m\u001b[0m\u001b[0;34m\u001b[0m\u001b[0m\n\u001b[0;32m---> 10\u001b[0;31m         \u001b[0mpge\u001b[0m \u001b[0;34m=\u001b[0m \u001b[0mPGE\u001b[0m\u001b[0;34m(\u001b[0m\u001b[0minp\u001b[0m\u001b[0;34m,\u001b[0m \u001b[0mmodel\u001b[0m\u001b[0;34m,\u001b[0m \u001b[0msub_traces\u001b[0m\u001b[0;34m)\u001b[0m\u001b[0;34m\u001b[0m\u001b[0;34m\u001b[0m\u001b[0m\n\u001b[0m\u001b[1;32m     11\u001b[0m         \u001b[0mprint\u001b[0m\u001b[0;34m(\u001b[0m\u001b[0mpge\u001b[0m\u001b[0;34m)\u001b[0m\u001b[0;34m\u001b[0m\u001b[0;34m\u001b[0m\u001b[0m\n\u001b[1;32m     12\u001b[0m \u001b[0;34m\u001b[0m\u001b[0m\n",
            "\u001b[0;32m<ipython-input-40-46f583bf2a13>\u001b[0m in \u001b[0;36mPGE\u001b[0;34m(inp, model, traces)\u001b[0m\n\u001b[1;32m      8\u001b[0m \u001b[0;34m\u001b[0m\u001b[0m\n\u001b[1;32m      9\u001b[0m   \u001b[0mmat\u001b[0m \u001b[0;34m=\u001b[0m \u001b[0mpower_model\u001b[0m\u001b[0;34m(\u001b[0m\u001b[0mmodel\u001b[0m\u001b[0;34m,\u001b[0m \u001b[0msmat\u001b[0m\u001b[0;34m,\u001b[0m \u001b[0mxmat\u001b[0m\u001b[0;34m)\u001b[0m\u001b[0;34m\u001b[0m\u001b[0;34m\u001b[0m\u001b[0m\n\u001b[0;32m---> 10\u001b[0;31m   \u001b[0mcorr\u001b[0m \u001b[0;34m=\u001b[0m \u001b[0mcorrelate\u001b[0m\u001b[0;34m(\u001b[0m\u001b[0mmat\u001b[0m\u001b[0;34m,\u001b[0m \u001b[0mtraces\u001b[0m\u001b[0;34m)\u001b[0m\u001b[0;34m\u001b[0m\u001b[0;34m\u001b[0m\u001b[0m\n\u001b[0m\u001b[1;32m     11\u001b[0m   \u001b[0;31m# What is the shape and contents of the correlation matrix?\u001b[0m\u001b[0;34m\u001b[0m\u001b[0;34m\u001b[0m\u001b[0m\n\u001b[1;32m     12\u001b[0m   \u001b[0;31m# Find the absolute maximum correlation\u001b[0m\u001b[0;34m\u001b[0m\u001b[0;34m\u001b[0m\u001b[0m\n",
            "\u001b[0;32m<ipython-input-4-cddbfedf959c>\u001b[0m in \u001b[0;36mcorrelate\u001b[0;34m(x, y)\u001b[0m\n\u001b[1;32m     56\u001b[0m     \u001b[0my\u001b[0m \u001b[0;34m=\u001b[0m \u001b[0my\u001b[0m \u001b[0;34m-\u001b[0m \u001b[0mnp\u001b[0m\u001b[0;34m.\u001b[0m\u001b[0maverage\u001b[0m\u001b[0;34m(\u001b[0m\u001b[0my\u001b[0m\u001b[0;34m,\u001b[0m \u001b[0;36m0\u001b[0m\u001b[0;34m)\u001b[0m \u001b[0;31m# remove vertical averages\u001b[0m\u001b[0;34m\u001b[0m\u001b[0;34m\u001b[0m\u001b[0m\n\u001b[1;32m     57\u001b[0m     \u001b[0mC\u001b[0m \u001b[0;34m=\u001b[0m \u001b[0mx\u001b[0m\u001b[0;34m.\u001b[0m\u001b[0mT\u001b[0m \u001b[0;34m@\u001b[0m \u001b[0my\u001b[0m              \u001b[0;31m# (n-1) Cov(x,y)\u001b[0m\u001b[0;34m\u001b[0m\u001b[0;34m\u001b[0m\u001b[0m\n\u001b[0;32m---> 58\u001b[0;31m     \u001b[0mC\u001b[0m \u001b[0;34m=\u001b[0m \u001b[0mC\u001b[0m \u001b[0;34m/\u001b[0m \u001b[0;34m(\u001b[0m\u001b[0mnp\u001b[0m\u001b[0;34m.\u001b[0m\u001b[0msum\u001b[0m\u001b[0;34m(\u001b[0m\u001b[0mx\u001b[0m\u001b[0;34m**\u001b[0m\u001b[0;36m2\u001b[0m\u001b[0;34m,\u001b[0m \u001b[0;36m0\u001b[0m\u001b[0;34m)\u001b[0m\u001b[0;34m**\u001b[0m\u001b[0;34m(\u001b[0m\u001b[0;36m1\u001b[0m\u001b[0;34m/\u001b[0m\u001b[0;36m2\u001b[0m\u001b[0;34m)\u001b[0m\u001b[0;34m)\u001b[0m\u001b[0;34m[\u001b[0m\u001b[0;34m:\u001b[0m\u001b[0;34m,\u001b[0m\u001b[0mnp\u001b[0m\u001b[0;34m.\u001b[0m\u001b[0mnewaxis\u001b[0m\u001b[0;34m]\u001b[0m \u001b[0;31m# divide by (n-1) Var(x)\u001b[0m\u001b[0;34m\u001b[0m\u001b[0;34m\u001b[0m\u001b[0m\n\u001b[0m\u001b[1;32m     59\u001b[0m     \u001b[0mC\u001b[0m \u001b[0;34m=\u001b[0m \u001b[0mC\u001b[0m \u001b[0;34m/\u001b[0m \u001b[0;34m(\u001b[0m\u001b[0mnp\u001b[0m\u001b[0;34m.\u001b[0m\u001b[0msum\u001b[0m\u001b[0;34m(\u001b[0m\u001b[0my\u001b[0m\u001b[0;34m**\u001b[0m\u001b[0;36m2\u001b[0m\u001b[0;34m,\u001b[0m \u001b[0;36m0\u001b[0m\u001b[0;34m)\u001b[0m\u001b[0;34m**\u001b[0m\u001b[0;34m(\u001b[0m\u001b[0;36m1\u001b[0m\u001b[0;34m/\u001b[0m\u001b[0;36m2\u001b[0m\u001b[0;34m)\u001b[0m\u001b[0;34m)\u001b[0m               \u001b[0;31m# divide by (n-1) Var(y)\u001b[0m\u001b[0;34m\u001b[0m\u001b[0;34m\u001b[0m\u001b[0m\n\u001b[1;32m     60\u001b[0m     \u001b[0;32mreturn\u001b[0m \u001b[0mC\u001b[0m\u001b[0;34m\u001b[0m\u001b[0;34m\u001b[0m\u001b[0m\n",
            "\u001b[0;31mKeyboardInterrupt\u001b[0m: "
          ]
        }
      ]
    }
  ],
  "metadata": {
    "colab": {
      "provenance": [],
      "include_colab_link": true
    },
    "kernelspec": {
      "display_name": "Python 3",
      "name": "python3"
    },
    "language_info": {
      "codemirror_mode": {
        "name": "ipython",
        "version": 3
      },
      "file_extension": ".py",
      "mimetype": "text/x-python",
      "name": "python",
      "nbconvert_exporter": "python",
      "pygments_lexer": "ipython3",
      "version": "3.9.1"
    },
    "widgets": {
      "application/vnd.jupyter.widget-state+json": {
        "b4d5ce9742ef406fbf29375ed074030d": {
          "model_module": "jupyter-matplotlib",
          "model_name": "MPLCanvasModel",
          "model_module_version": "^0.11",
          "state": {
            "_cursor": "default",
            "_data_url": "data:image/png;base64,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",
            "_dom_classes": [],
            "_figure_label": "Figure 1",
            "_image_mode": "full",
            "_message": "",
            "_model_module": "jupyter-matplotlib",
            "_model_module_version": "^0.11",
            "_model_name": "MPLCanvasModel",
            "_rubberband_height": 0,
            "_rubberband_width": 0,
            "_rubberband_x": 0,
            "_rubberband_y": 0,
            "_size": [
              432,
              288
            ],
            "_view_count": null,
            "_view_module": "jupyter-matplotlib",
            "_view_module_version": "^0.11",
            "_view_name": "MPLCanvasView",
            "capture_scroll": false,
            "footer_visible": true,
            "header_visible": true,
            "layout": "IPY_MODEL_4185f05f23b048eaa44d55f5b45ed6ad",
            "pan_zoom_throttle": 33,
            "resizable": true,
            "toolbar": "IPY_MODEL_d3ac0b6cb072422c9a0ff457ba611876",
            "toolbar_position": "left",
            "toolbar_visible": "fade-in-fade-out"
          }
        },
        "4185f05f23b048eaa44d55f5b45ed6ad": {
          "model_module": "@jupyter-widgets/base",
          "model_name": "LayoutModel",
          "model_module_version": "1.2.0",
          "state": {
            "_model_module": "@jupyter-widgets/base",
            "_model_module_version": "1.2.0",
            "_model_name": "LayoutModel",
            "_view_count": null,
            "_view_module": "@jupyter-widgets/base",
            "_view_module_version": "1.2.0",
            "_view_name": "LayoutView",
            "align_content": null,
            "align_items": null,
            "align_self": null,
            "border": null,
            "bottom": null,
            "display": null,
            "flex": null,
            "flex_flow": null,
            "grid_area": null,
            "grid_auto_columns": null,
            "grid_auto_flow": null,
            "grid_auto_rows": null,
            "grid_column": null,
            "grid_gap": null,
            "grid_row": null,
            "grid_template_areas": null,
            "grid_template_columns": null,
            "grid_template_rows": null,
            "height": null,
            "justify_content": null,
            "justify_items": null,
            "left": null,
            "margin": null,
            "max_height": null,
            "max_width": null,
            "min_height": null,
            "min_width": null,
            "object_fit": null,
            "object_position": null,
            "order": null,
            "overflow": null,
            "overflow_x": null,
            "overflow_y": null,
            "padding": null,
            "right": null,
            "top": null,
            "visibility": null,
            "width": null
          }
        },
        "d3ac0b6cb072422c9a0ff457ba611876": {
          "model_module": "jupyter-matplotlib",
          "model_name": "ToolbarModel",
          "model_module_version": "^0.11",
          "state": {
            "_current_action": "",
            "_dom_classes": [],
            "_model_module": "jupyter-matplotlib",
            "_model_module_version": "^0.11",
            "_model_name": "ToolbarModel",
            "_view_count": null,
            "_view_module": "jupyter-matplotlib",
            "_view_module_version": "^0.11",
            "_view_name": "ToolbarView",
            "button_style": "",
            "collapsed": true,
            "layout": "IPY_MODEL_fa986cef2df341f0862fe02b373efe32",
            "orientation": "vertical",
            "toolitems": [
              [
                "Home",
                "Reset original view",
                "home",
                "home"
              ],
              [
                "Back",
                "Back to previous view",
                "arrow-left",
                "back"
              ],
              [
                "Forward",
                "Forward to next view",
                "arrow-right",
                "forward"
              ],
              [
                "Pan",
                "Left button pans, Right button zooms\nx/y fixes axis, CTRL fixes aspect",
                "arrows",
                "pan"
              ],
              [
                "Zoom",
                "Zoom to rectangle\nx/y fixes axis",
                "square-o",
                "zoom"
              ],
              [
                "Download",
                "Download plot",
                "floppy-o",
                "save_figure"
              ]
            ]
          }
        },
        "fa986cef2df341f0862fe02b373efe32": {
          "model_module": "@jupyter-widgets/base",
          "model_name": "LayoutModel",
          "model_module_version": "1.2.0",
          "state": {
            "_model_module": "@jupyter-widgets/base",
            "_model_module_version": "1.2.0",
            "_model_name": "LayoutModel",
            "_view_count": null,
            "_view_module": "@jupyter-widgets/base",
            "_view_module_version": "1.2.0",
            "_view_name": "LayoutView",
            "align_content": null,
            "align_items": null,
            "align_self": null,
            "border": null,
            "bottom": null,
            "display": null,
            "flex": null,
            "flex_flow": null,
            "grid_area": null,
            "grid_auto_columns": null,
            "grid_auto_flow": null,
            "grid_auto_rows": null,
            "grid_column": null,
            "grid_gap": null,
            "grid_row": null,
            "grid_template_areas": null,
            "grid_template_columns": null,
            "grid_template_rows": null,
            "height": null,
            "justify_content": null,
            "justify_items": null,
            "left": null,
            "margin": null,
            "max_height": null,
            "max_width": null,
            "min_height": null,
            "min_width": null,
            "object_fit": null,
            "object_position": null,
            "order": null,
            "overflow": null,
            "overflow_x": null,
            "overflow_y": null,
            "padding": null,
            "right": null,
            "top": null,
            "visibility": null,
            "width": null
          }
        },
        "80cf343f34aa4093a261be9e58d3eb9e": {
          "model_module": "jupyter-matplotlib",
          "model_name": "MPLCanvasModel",
          "model_module_version": "^0.11",
          "state": {
            "_cursor": "default",
            "_data_url": "data:image/png;base64,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",
            "_dom_classes": [],
            "_figure_label": "Figure 2",
            "_image_mode": "full",
            "_message": "",
            "_model_module": "jupyter-matplotlib",
            "_model_module_version": "^0.11",
            "_model_name": "MPLCanvasModel",
            "_rubberband_height": 0,
            "_rubberband_width": 0,
            "_rubberband_x": 0,
            "_rubberband_y": 0,
            "_size": [
              432,
              288
            ],
            "_view_count": null,
            "_view_module": "jupyter-matplotlib",
            "_view_module_version": "^0.11",
            "_view_name": "MPLCanvasView",
            "capture_scroll": false,
            "footer_visible": true,
            "header_visible": true,
            "layout": "IPY_MODEL_84e585124feb40ba9c8f16963202c36b",
            "pan_zoom_throttle": 33,
            "resizable": true,
            "toolbar": "IPY_MODEL_68ecd95da7694656be5b391eaff1aefb",
            "toolbar_position": "left",
            "toolbar_visible": "fade-in-fade-out"
          }
        },
        "84e585124feb40ba9c8f16963202c36b": {
          "model_module": "@jupyter-widgets/base",
          "model_name": "LayoutModel",
          "model_module_version": "1.2.0",
          "state": {
            "_model_module": "@jupyter-widgets/base",
            "_model_module_version": "1.2.0",
            "_model_name": "LayoutModel",
            "_view_count": null,
            "_view_module": "@jupyter-widgets/base",
            "_view_module_version": "1.2.0",
            "_view_name": "LayoutView",
            "align_content": null,
            "align_items": null,
            "align_self": null,
            "border": null,
            "bottom": null,
            "display": null,
            "flex": null,
            "flex_flow": null,
            "grid_area": null,
            "grid_auto_columns": null,
            "grid_auto_flow": null,
            "grid_auto_rows": null,
            "grid_column": null,
            "grid_gap": null,
            "grid_row": null,
            "grid_template_areas": null,
            "grid_template_columns": null,
            "grid_template_rows": null,
            "height": null,
            "justify_content": null,
            "justify_items": null,
            "left": null,
            "margin": null,
            "max_height": null,
            "max_width": null,
            "min_height": null,
            "min_width": null,
            "object_fit": null,
            "object_position": null,
            "order": null,
            "overflow": null,
            "overflow_x": null,
            "overflow_y": null,
            "padding": null,
            "right": null,
            "top": null,
            "visibility": null,
            "width": null
          }
        },
        "68ecd95da7694656be5b391eaff1aefb": {
          "model_module": "jupyter-matplotlib",
          "model_name": "ToolbarModel",
          "model_module_version": "^0.11",
          "state": {
            "_current_action": "",
            "_dom_classes": [],
            "_model_module": "jupyter-matplotlib",
            "_model_module_version": "^0.11",
            "_model_name": "ToolbarModel",
            "_view_count": null,
            "_view_module": "jupyter-matplotlib",
            "_view_module_version": "^0.11",
            "_view_name": "ToolbarView",
            "button_style": "",
            "collapsed": true,
            "layout": "IPY_MODEL_2bef567efc7a45338dcfa0d3658252ae",
            "orientation": "vertical",
            "toolitems": [
              [
                "Home",
                "Reset original view",
                "home",
                "home"
              ],
              [
                "Back",
                "Back to previous view",
                "arrow-left",
                "back"
              ],
              [
                "Forward",
                "Forward to next view",
                "arrow-right",
                "forward"
              ],
              [
                "Pan",
                "Left button pans, Right button zooms\nx/y fixes axis, CTRL fixes aspect",
                "arrows",
                "pan"
              ],
              [
                "Zoom",
                "Zoom to rectangle\nx/y fixes axis",
                "square-o",
                "zoom"
              ],
              [
                "Download",
                "Download plot",
                "floppy-o",
                "save_figure"
              ]
            ]
          }
        },
        "2bef567efc7a45338dcfa0d3658252ae": {
          "model_module": "@jupyter-widgets/base",
          "model_name": "LayoutModel",
          "model_module_version": "1.2.0",
          "state": {
            "_model_module": "@jupyter-widgets/base",
            "_model_module_version": "1.2.0",
            "_model_name": "LayoutModel",
            "_view_count": null,
            "_view_module": "@jupyter-widgets/base",
            "_view_module_version": "1.2.0",
            "_view_name": "LayoutView",
            "align_content": null,
            "align_items": null,
            "align_self": null,
            "border": null,
            "bottom": null,
            "display": null,
            "flex": null,
            "flex_flow": null,
            "grid_area": null,
            "grid_auto_columns": null,
            "grid_auto_flow": null,
            "grid_auto_rows": null,
            "grid_column": null,
            "grid_gap": null,
            "grid_row": null,
            "grid_template_areas": null,
            "grid_template_columns": null,
            "grid_template_rows": null,
            "height": null,
            "justify_content": null,
            "justify_items": null,
            "left": null,
            "margin": null,
            "max_height": null,
            "max_width": null,
            "min_height": null,
            "min_width": null,
            "object_fit": null,
            "object_position": null,
            "order": null,
            "overflow": null,
            "overflow_x": null,
            "overflow_y": null,
            "padding": null,
            "right": null,
            "top": null,
            "visibility": null,
            "width": null
          }
        },
        "62f8b5f2cc7a4054a28bce4768d4ebfd": {
          "model_module": "jupyter-matplotlib",
          "model_name": "MPLCanvasModel",
          "model_module_version": "^0.11",
          "state": {
            "_cursor": "default",
            "_data_url": "data:image/png;base64,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",
            "_dom_classes": [],
            "_figure_label": "Figure 6",
            "_image_mode": "full",
            "_message": "",
            "_model_module": "jupyter-matplotlib",
            "_model_module_version": "^0.11",
            "_model_name": "MPLCanvasModel",
            "_rubberband_height": 0,
            "_rubberband_width": 0,
            "_rubberband_x": 0,
            "_rubberband_y": 0,
            "_size": [
              432,
              288
            ],
            "_view_count": null,
            "_view_module": "jupyter-matplotlib",
            "_view_module_version": "^0.11",
            "_view_name": "MPLCanvasView",
            "capture_scroll": false,
            "footer_visible": true,
            "header_visible": true,
            "layout": "IPY_MODEL_b7d7b0b4df2e441287cc8cc6d31af10d",
            "pan_zoom_throttle": 33,
            "resizable": true,
            "toolbar": "IPY_MODEL_22b8d2e7234d47dd96baf5d751a72bef",
            "toolbar_position": "left",
            "toolbar_visible": "fade-in-fade-out"
          }
        },
        "b7d7b0b4df2e441287cc8cc6d31af10d": {
          "model_module": "@jupyter-widgets/base",
          "model_name": "LayoutModel",
          "model_module_version": "1.2.0",
          "state": {
            "_model_module": "@jupyter-widgets/base",
            "_model_module_version": "1.2.0",
            "_model_name": "LayoutModel",
            "_view_count": null,
            "_view_module": "@jupyter-widgets/base",
            "_view_module_version": "1.2.0",
            "_view_name": "LayoutView",
            "align_content": null,
            "align_items": null,
            "align_self": null,
            "border": null,
            "bottom": null,
            "display": null,
            "flex": null,
            "flex_flow": null,
            "grid_area": null,
            "grid_auto_columns": null,
            "grid_auto_flow": null,
            "grid_auto_rows": null,
            "grid_column": null,
            "grid_gap": null,
            "grid_row": null,
            "grid_template_areas": null,
            "grid_template_columns": null,
            "grid_template_rows": null,
            "height": null,
            "justify_content": null,
            "justify_items": null,
            "left": null,
            "margin": null,
            "max_height": null,
            "max_width": null,
            "min_height": null,
            "min_width": null,
            "object_fit": null,
            "object_position": null,
            "order": null,
            "overflow": null,
            "overflow_x": null,
            "overflow_y": null,
            "padding": null,
            "right": null,
            "top": null,
            "visibility": null,
            "width": null
          }
        },
        "22b8d2e7234d47dd96baf5d751a72bef": {
          "model_module": "jupyter-matplotlib",
          "model_name": "ToolbarModel",
          "model_module_version": "^0.11",
          "state": {
            "_current_action": "",
            "_dom_classes": [],
            "_model_module": "jupyter-matplotlib",
            "_model_module_version": "^0.11",
            "_model_name": "ToolbarModel",
            "_view_count": null,
            "_view_module": "jupyter-matplotlib",
            "_view_module_version": "^0.11",
            "_view_name": "ToolbarView",
            "button_style": "",
            "collapsed": true,
            "layout": "IPY_MODEL_0d647906d3714b5db63794de8788e87c",
            "orientation": "vertical",
            "toolitems": [
              [
                "Home",
                "Reset original view",
                "home",
                "home"
              ],
              [
                "Back",
                "Back to previous view",
                "arrow-left",
                "back"
              ],
              [
                "Forward",
                "Forward to next view",
                "arrow-right",
                "forward"
              ],
              [
                "Pan",
                "Left button pans, Right button zooms\nx/y fixes axis, CTRL fixes aspect",
                "arrows",
                "pan"
              ],
              [
                "Zoom",
                "Zoom to rectangle\nx/y fixes axis",
                "square-o",
                "zoom"
              ],
              [
                "Download",
                "Download plot",
                "floppy-o",
                "save_figure"
              ]
            ]
          }
        },
        "0d647906d3714b5db63794de8788e87c": {
          "model_module": "@jupyter-widgets/base",
          "model_name": "LayoutModel",
          "model_module_version": "1.2.0",
          "state": {
            "_model_module": "@jupyter-widgets/base",
            "_model_module_version": "1.2.0",
            "_model_name": "LayoutModel",
            "_view_count": null,
            "_view_module": "@jupyter-widgets/base",
            "_view_module_version": "1.2.0",
            "_view_name": "LayoutView",
            "align_content": null,
            "align_items": null,
            "align_self": null,
            "border": null,
            "bottom": null,
            "display": null,
            "flex": null,
            "flex_flow": null,
            "grid_area": null,
            "grid_auto_columns": null,
            "grid_auto_flow": null,
            "grid_auto_rows": null,
            "grid_column": null,
            "grid_gap": null,
            "grid_row": null,
            "grid_template_areas": null,
            "grid_template_columns": null,
            "grid_template_rows": null,
            "height": null,
            "justify_content": null,
            "justify_items": null,
            "left": null,
            "margin": null,
            "max_height": null,
            "max_width": null,
            "min_height": null,
            "min_width": null,
            "object_fit": null,
            "object_position": null,
            "order": null,
            "overflow": null,
            "overflow_x": null,
            "overflow_y": null,
            "padding": null,
            "right": null,
            "top": null,
            "visibility": null,
            "width": null
          }
        },
        "493fed7533b4411599486789c0c6218f": {
          "model_module": "@jupyter-widgets/base",
          "model_name": "LayoutModel",
          "model_module_version": "1.2.0",
          "state": {
            "_model_module": "@jupyter-widgets/base",
            "_model_module_version": "1.2.0",
            "_model_name": "LayoutModel",
            "_view_count": null,
            "_view_module": "@jupyter-widgets/base",
            "_view_module_version": "1.2.0",
            "_view_name": "LayoutView",
            "align_content": null,
            "align_items": null,
            "align_self": null,
            "border": null,
            "bottom": null,
            "display": null,
            "flex": null,
            "flex_flow": null,
            "grid_area": null,
            "grid_auto_columns": null,
            "grid_auto_flow": null,
            "grid_auto_rows": null,
            "grid_column": null,
            "grid_gap": null,
            "grid_row": null,
            "grid_template_areas": null,
            "grid_template_columns": null,
            "grid_template_rows": null,
            "height": null,
            "justify_content": null,
            "justify_items": null,
            "left": null,
            "margin": null,
            "max_height": null,
            "max_width": null,
            "min_height": null,
            "min_width": null,
            "object_fit": null,
            "object_position": null,
            "order": null,
            "overflow": null,
            "overflow_x": null,
            "overflow_y": null,
            "padding": null,
            "right": null,
            "top": null,
            "visibility": null,
            "width": null
          }
        },
        "7dabaafea301414a8ab1ce2562eee263": {
          "model_module": "@jupyter-widgets/base",
          "model_name": "LayoutModel",
          "model_module_version": "1.2.0",
          "state": {
            "_model_module": "@jupyter-widgets/base",
            "_model_module_version": "1.2.0",
            "_model_name": "LayoutModel",
            "_view_count": null,
            "_view_module": "@jupyter-widgets/base",
            "_view_module_version": "1.2.0",
            "_view_name": "LayoutView",
            "align_content": null,
            "align_items": null,
            "align_self": null,
            "border": null,
            "bottom": null,
            "display": null,
            "flex": null,
            "flex_flow": null,
            "grid_area": null,
            "grid_auto_columns": null,
            "grid_auto_flow": null,
            "grid_auto_rows": null,
            "grid_column": null,
            "grid_gap": null,
            "grid_row": null,
            "grid_template_areas": null,
            "grid_template_columns": null,
            "grid_template_rows": null,
            "height": null,
            "justify_content": null,
            "justify_items": null,
            "left": null,
            "margin": null,
            "max_height": null,
            "max_width": null,
            "min_height": null,
            "min_width": null,
            "object_fit": null,
            "object_position": null,
            "order": null,
            "overflow": null,
            "overflow_x": null,
            "overflow_y": null,
            "padding": null,
            "right": null,
            "top": null,
            "visibility": null,
            "width": null
          }
        },
        "0d368cc1192c462e9211f4c26de77d7b": {
          "model_module": "jupyter-matplotlib",
          "model_name": "ToolbarModel",
          "model_module_version": "^0.11",
          "state": {
            "_current_action": "",
            "_dom_classes": [],
            "_model_module": "jupyter-matplotlib",
            "_model_module_version": "^0.11",
            "_model_name": "ToolbarModel",
            "_view_count": null,
            "_view_module": "jupyter-matplotlib",
            "_view_module_version": "^0.11",
            "_view_name": "ToolbarView",
            "button_style": "",
            "collapsed": true,
            "layout": "IPY_MODEL_7dabaafea301414a8ab1ce2562eee263",
            "orientation": "vertical",
            "toolitems": [
              [
                "Home",
                "Reset original view",
                "home",
                "home"
              ],
              [
                "Back",
                "Back to previous view",
                "arrow-left",
                "back"
              ],
              [
                "Forward",
                "Forward to next view",
                "arrow-right",
                "forward"
              ],
              [
                "Pan",
                "Left button pans, Right button zooms\nx/y fixes axis, CTRL fixes aspect",
                "arrows",
                "pan"
              ],
              [
                "Zoom",
                "Zoom to rectangle\nx/y fixes axis",
                "square-o",
                "zoom"
              ],
              [
                "Download",
                "Download plot",
                "floppy-o",
                "save_figure"
              ]
            ]
          }
        },
        "5025a0b3b04d43628ef7d35da941fe34": {
          "model_module": "jupyter-matplotlib",
          "model_name": "MPLCanvasModel",
          "model_module_version": "^0.11",
          "state": {
            "_cursor": "default",
            "_data_url": "data:image/png;base64,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",
            "_dom_classes": [],
            "_figure_label": "Figure 7",
            "_image_mode": "full",
            "_message": "",
            "_model_module": "jupyter-matplotlib",
            "_model_module_version": "^0.11",
            "_model_name": "MPLCanvasModel",
            "_rubberband_height": 0,
            "_rubberband_width": 0,
            "_rubberband_x": 0,
            "_rubberband_y": 0,
            "_size": [
              432,
              288
            ],
            "_view_count": null,
            "_view_module": "jupyter-matplotlib",
            "_view_module_version": "^0.11",
            "_view_name": "MPLCanvasView",
            "capture_scroll": false,
            "footer_visible": true,
            "header_visible": true,
            "layout": "IPY_MODEL_493fed7533b4411599486789c0c6218f",
            "pan_zoom_throttle": 33,
            "resizable": true,
            "toolbar": "IPY_MODEL_0d368cc1192c462e9211f4c26de77d7b",
            "toolbar_position": "left",
            "toolbar_visible": "fade-in-fade-out"
          }
        },
        "727a270455f7453a811b155d68c3ec74": {
          "model_module": "@jupyter-widgets/base",
          "model_name": "LayoutModel",
          "model_module_version": "1.2.0",
          "state": {
            "_model_module": "@jupyter-widgets/base",
            "_model_module_version": "1.2.0",
            "_model_name": "LayoutModel",
            "_view_count": null,
            "_view_module": "@jupyter-widgets/base",
            "_view_module_version": "1.2.0",
            "_view_name": "LayoutView",
            "align_content": null,
            "align_items": null,
            "align_self": null,
            "border": null,
            "bottom": null,
            "display": null,
            "flex": null,
            "flex_flow": null,
            "grid_area": null,
            "grid_auto_columns": null,
            "grid_auto_flow": null,
            "grid_auto_rows": null,
            "grid_column": null,
            "grid_gap": null,
            "grid_row": null,
            "grid_template_areas": null,
            "grid_template_columns": null,
            "grid_template_rows": null,
            "height": null,
            "justify_content": null,
            "justify_items": null,
            "left": null,
            "margin": null,
            "max_height": null,
            "max_width": null,
            "min_height": null,
            "min_width": null,
            "object_fit": null,
            "object_position": null,
            "order": null,
            "overflow": null,
            "overflow_x": null,
            "overflow_y": null,
            "padding": null,
            "right": null,
            "top": null,
            "visibility": null,
            "width": null
          }
        },
        "57dcba70cb884eb5b38aad403d3f7bfb": {
          "model_module": "@jupyter-widgets/base",
          "model_name": "LayoutModel",
          "model_module_version": "1.2.0",
          "state": {
            "_model_module": "@jupyter-widgets/base",
            "_model_module_version": "1.2.0",
            "_model_name": "LayoutModel",
            "_view_count": null,
            "_view_module": "@jupyter-widgets/base",
            "_view_module_version": "1.2.0",
            "_view_name": "LayoutView",
            "align_content": null,
            "align_items": null,
            "align_self": null,
            "border": null,
            "bottom": null,
            "display": null,
            "flex": null,
            "flex_flow": null,
            "grid_area": null,
            "grid_auto_columns": null,
            "grid_auto_flow": null,
            "grid_auto_rows": null,
            "grid_column": null,
            "grid_gap": null,
            "grid_row": null,
            "grid_template_areas": null,
            "grid_template_columns": null,
            "grid_template_rows": null,
            "height": null,
            "justify_content": null,
            "justify_items": null,
            "left": null,
            "margin": null,
            "max_height": null,
            "max_width": null,
            "min_height": null,
            "min_width": null,
            "object_fit": null,
            "object_position": null,
            "order": null,
            "overflow": null,
            "overflow_x": null,
            "overflow_y": null,
            "padding": null,
            "right": null,
            "top": null,
            "visibility": null,
            "width": null
          }
        },
        "6787c1299f18490a8868cd55f30ca448": {
          "model_module": "jupyter-matplotlib",
          "model_name": "MPLCanvasModel",
          "model_module_version": "^0.11",
          "state": {
            "_cursor": "default",
            "_data_url": "data:image/png;base64,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",
            "_dom_classes": [],
            "_figure_label": "Figure 8",
            "_image_mode": "full",
            "_message": "",
            "_model_module": "jupyter-matplotlib",
            "_model_module_version": "^0.11",
            "_model_name": "MPLCanvasModel",
            "_rubberband_height": 0,
            "_rubberband_width": 0,
            "_rubberband_x": 0,
            "_rubberband_y": 0,
            "_size": [
              432,
              288
            ],
            "_view_count": null,
            "_view_module": "jupyter-matplotlib",
            "_view_module_version": "^0.11",
            "_view_name": "MPLCanvasView",
            "capture_scroll": false,
            "footer_visible": true,
            "header_visible": true,
            "layout": "IPY_MODEL_727a270455f7453a811b155d68c3ec74",
            "pan_zoom_throttle": 33,
            "resizable": true,
            "toolbar": "IPY_MODEL_2050a566fecd47459302a9e7b1fb3619",
            "toolbar_position": "left",
            "toolbar_visible": "fade-in-fade-out"
          }
        },
        "2050a566fecd47459302a9e7b1fb3619": {
          "model_module": "jupyter-matplotlib",
          "model_name": "ToolbarModel",
          "model_module_version": "^0.11",
          "state": {
            "_current_action": "",
            "_dom_classes": [],
            "_model_module": "jupyter-matplotlib",
            "_model_module_version": "^0.11",
            "_model_name": "ToolbarModel",
            "_view_count": null,
            "_view_module": "jupyter-matplotlib",
            "_view_module_version": "^0.11",
            "_view_name": "ToolbarView",
            "button_style": "",
            "collapsed": true,
            "layout": "IPY_MODEL_57dcba70cb884eb5b38aad403d3f7bfb",
            "orientation": "vertical",
            "toolitems": [
              [
                "Home",
                "Reset original view",
                "home",
                "home"
              ],
              [
                "Back",
                "Back to previous view",
                "arrow-left",
                "back"
              ],
              [
                "Forward",
                "Forward to next view",
                "arrow-right",
                "forward"
              ],
              [
                "Pan",
                "Left button pans, Right button zooms\nx/y fixes axis, CTRL fixes aspect",
                "arrows",
                "pan"
              ],
              [
                "Zoom",
                "Zoom to rectangle\nx/y fixes axis",
                "square-o",
                "zoom"
              ],
              [
                "Download",
                "Download plot",
                "floppy-o",
                "save_figure"
              ]
            ]
          }
        }
      }
    }
  },
  "nbformat": 4,
  "nbformat_minor": 0
}